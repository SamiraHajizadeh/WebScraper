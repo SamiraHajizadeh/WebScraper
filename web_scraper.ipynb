{
  "nbformat": 4,
  "nbformat_minor": 0,
  "metadata": {
    "colab": {
      "provenance": []
    },
    "kernelspec": {
      "name": "python3",
      "display_name": "Python 3"
    },
    "language_info": {
      "name": "python"
    }
  },
  "cells": [
    {
      "cell_type": "markdown",
      "source": [
        "# Obtaining the dataset using Web Scraping\n"
      ],
      "metadata": {
        "id": "7uNte7XYp4dL"
      }
    },
    {
      "cell_type": "markdown",
      "source": [
        "In this notebook, we try to scrape the coin images and their descriptions from the Roman Provincial Coinage website, as there are no download buttons available. We specifically focus on volume IV.1 with 4343 entries."
      ],
      "metadata": {
        "id": "Tr31P4bEpJpx"
      }
    },
    {
      "cell_type": "markdown",
      "source": [
        "## Step 1 - Finding the URL\n",
        "\n",
        "The url of the mentioned volume is https://rpc.ashmus.ox.ac.uk/search/browse?volume_id=4\n",
        "\n",
        "witch contains the\n",
        "\n",
        "\n"
      ],
      "metadata": {
        "id": "6dMvySKxqOrO"
      }
    },
    {
      "cell_type": "code",
      "source": [
        "! pip install scrapy\n",
        "import scrapy\n",
        "import os\n",
        "\n",
        "!git clone https://github.com/SamiraHajizadeh/WebScraper.git\n",
        "os.chdir('./WebScraper')"
      ],
      "metadata": {
        "id": "mS2Dn3R2HmPR"
      },
      "execution_count": null,
      "outputs": []
    },
    {
      "cell_type": "code",
      "source": [
        "os.mkdir('images')"
      ],
      "metadata": {
        "id": "mB3v9_LWofsG"
      },
      "execution_count": 2,
      "outputs": []
    },
    {
      "cell_type": "code",
      "source": [
        "! scrapy crawl RPC_V4 -o file.csv -t csv"
      ],
      "metadata": {
        "id": "UiYDmji7U97z"
      },
      "execution_count": null,
      "outputs": []
    }
  ]
}